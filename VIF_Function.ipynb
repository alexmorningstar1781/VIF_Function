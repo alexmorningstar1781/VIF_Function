{
 "cells": [
  {
   "cell_type": "code",
   "execution_count": 24,
   "id": "66e3f10e-e4a8-4f57-93f4-34291437acc4",
   "metadata": {
    "tags": []
   },
   "outputs": [
    {
     "name": "stdout",
     "output_type": "stream",
     "text": [
      "  feature        VIF\n",
      "0       A  88.244358\n",
      "1       B  11.763105\n",
      "2       C  50.069218\n",
      "Possible multicollinearity detected.\n"
     ]
    }
   ],
   "source": [
    "from statsmodels.stats.outliers_influence import variance_inflation_factor\n",
    "import pandas as pd\n",
    "\n",
    "def check_multicollinearity(df, features, threshold=_):\n",
    "    \"\"\"\n",
    "    Check for potential multicollinearity issues in a dataset using Variance Inflation Factor (VIF).\n",
    "    \n",
    "    Parameters:\n",
    "    df (pd.DataFrame): The dataframe containing the data.\n",
    "    features (list): List of feature/column names in df (pd.DataFrame) to check for multicollinearity.\n",
    "    threshold (float): The VIF value threshold above which multicollinearity is flagged. Must Specify Value.\n",
    "    \n",
    "    Returns:\n",
    "    pd.DataFrame: DataFrame containing features and their corresponding VIF values.\n",
    "    str: Message indicating if multicollinearity is detected or not.\n",
    "    \"\"\"\n",
    "    # The independent variables set\n",
    "    X = df[features]\n",
    "\n",
    "    # VIF dataframe\n",
    "    vif_data = pd.DataFrame()\n",
    "    vif_data[\"feature\"] = X.columns\n",
    "\n",
    "    # Calculating VIF for each feature\n",
    "    vif_data[\"VIF\"] = [variance_inflation_factor(X.values, i) for i in range(len(X.columns))]\n",
    "\n",
    "    print(vif_data)\n",
    "\n",
    "    if any(vif_data['VIF'] > threshold):\n",
    "        return vif_data, 'Possible multicollinearity detected.'\n",
    "    else:\n",
    "        return vif_data, 'No multicollinearity detected.'\n",
    "\n",
    "# Example usage\n",
    "df = pd.DataFrame({'A': [1456, 2546, 2453], 'B': [8344, 1885, 9656], 'C': [1787, 4568, 2349], 'D': [1330, 7111, 3312]})\n",
    "features = ['A', 'B', 'C']\n",
    "vif_data, message = check_multicollinearity(df, features, threshold=9.5)\n",
    "print(message)\n"
   ]
  }
 ],
 "metadata": {
  "kernelspec": {
   "display_name": "Python 3 (ipykernel)",
   "language": "python",
   "name": "python3"
  },
  "language_info": {
   "codemirror_mode": {
    "name": "ipython",
    "version": 3
   },
   "file_extension": ".py",
   "mimetype": "text/x-python",
   "name": "python",
   "nbconvert_exporter": "python",
   "pygments_lexer": "ipython3",
   "version": "3.11.5"
  }
 },
 "nbformat": 4,
 "nbformat_minor": 5
}
